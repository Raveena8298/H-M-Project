{
 "cells": [
  {
   "cell_type": "code",
   "execution_count": 1,
   "metadata": {
    "_cell_guid": "b1076dfc-b9ad-4769-8c92-a6c4dae69d19",
    "_uuid": "8f2839f25d086af736a60e9eeb907d3b93b6e0e5",
    "execution": {
     "iopub.execute_input": "2022-12-12T06:13:43.210183Z",
     "iopub.status.busy": "2022-12-12T06:13:43.208597Z",
     "iopub.status.idle": "2022-12-12T06:13:43.216927Z",
     "shell.execute_reply": "2022-12-12T06:13:43.215467Z",
     "shell.execute_reply.started": "2022-12-12T06:13:43.210116Z"
    }
   },
   "outputs": [],
   "source": [
    "import numpy as np\n",
    "import pandas as pd\n",
    "import seaborn as sns\n",
    "from matplotlib import pyplot as plt"
   ]
  },
  {
   "cell_type": "markdown",
   "metadata": {},
   "source": [
    "Loading the dataset"
   ]
  },
  {
   "cell_type": "code",
   "execution_count": 2,
   "metadata": {
    "execution": {
     "iopub.execute_input": "2022-12-12T06:13:43.242627Z",
     "iopub.status.busy": "2022-12-12T06:13:43.242123Z",
     "iopub.status.idle": "2022-12-12T06:13:47.904092Z",
     "shell.execute_reply": "2022-12-12T06:13:47.902571Z",
     "shell.execute_reply.started": "2022-12-12T06:13:43.242585Z"
    }
   },
   "outputs": [
    {
     "data": {
      "text/html": [
       "<div>\n",
       "<style scoped>\n",
       "    .dataframe tbody tr th:only-of-type {\n",
       "        vertical-align: middle;\n",
       "    }\n",
       "\n",
       "    .dataframe tbody tr th {\n",
       "        vertical-align: top;\n",
       "    }\n",
       "\n",
       "    .dataframe thead th {\n",
       "        text-align: right;\n",
       "    }\n",
       "</style>\n",
       "<table border=\"1\" class=\"dataframe\">\n",
       "  <thead>\n",
       "    <tr style=\"text-align: right;\">\n",
       "      <th></th>\n",
       "      <th>customer_id</th>\n",
       "      <th>FN</th>\n",
       "      <th>Active</th>\n",
       "      <th>club_member_status</th>\n",
       "      <th>fashion_news_frequency</th>\n",
       "      <th>age</th>\n",
       "      <th>postal_code</th>\n",
       "    </tr>\n",
       "  </thead>\n",
       "  <tbody>\n",
       "    <tr>\n",
       "      <th>0</th>\n",
       "      <td>00000dbacae5abe5e23885899a1fa44253a17956c6d1c3...</td>\n",
       "      <td>NaN</td>\n",
       "      <td>NaN</td>\n",
       "      <td>ACTIVE</td>\n",
       "      <td>NONE</td>\n",
       "      <td>49.0</td>\n",
       "      <td>52043ee2162cf5aa7ee79974281641c6f11a68d276429a...</td>\n",
       "    </tr>\n",
       "    <tr>\n",
       "      <th>1</th>\n",
       "      <td>0000423b00ade91418cceaf3b26c6af3dd342b51fd051e...</td>\n",
       "      <td>NaN</td>\n",
       "      <td>NaN</td>\n",
       "      <td>ACTIVE</td>\n",
       "      <td>NONE</td>\n",
       "      <td>25.0</td>\n",
       "      <td>2973abc54daa8a5f8ccfe9362140c63247c5eee03f1d93...</td>\n",
       "    </tr>\n",
       "    <tr>\n",
       "      <th>2</th>\n",
       "      <td>000058a12d5b43e67d225668fa1f8d618c13dc232df0ca...</td>\n",
       "      <td>NaN</td>\n",
       "      <td>NaN</td>\n",
       "      <td>ACTIVE</td>\n",
       "      <td>NONE</td>\n",
       "      <td>24.0</td>\n",
       "      <td>64f17e6a330a85798e4998f62d0930d14db8db1c054af6...</td>\n",
       "    </tr>\n",
       "    <tr>\n",
       "      <th>3</th>\n",
       "      <td>00005ca1c9ed5f5146b52ac8639a40ca9d57aeff4d1bd2...</td>\n",
       "      <td>NaN</td>\n",
       "      <td>NaN</td>\n",
       "      <td>ACTIVE</td>\n",
       "      <td>NONE</td>\n",
       "      <td>54.0</td>\n",
       "      <td>5d36574f52495e81f019b680c843c443bd343d5ca5b1c2...</td>\n",
       "    </tr>\n",
       "    <tr>\n",
       "      <th>4</th>\n",
       "      <td>00006413d8573cd20ed7128e53b7b13819fe5cfc2d801f...</td>\n",
       "      <td>1.0</td>\n",
       "      <td>1.0</td>\n",
       "      <td>ACTIVE</td>\n",
       "      <td>Regularly</td>\n",
       "      <td>52.0</td>\n",
       "      <td>25fa5ddee9aac01b35208d01736e57942317d756b32ddd...</td>\n",
       "    </tr>\n",
       "  </tbody>\n",
       "</table>\n",
       "</div>"
      ],
      "text/plain": [
       "                                         customer_id   FN  Active  \\\n",
       "0  00000dbacae5abe5e23885899a1fa44253a17956c6d1c3...  NaN     NaN   \n",
       "1  0000423b00ade91418cceaf3b26c6af3dd342b51fd051e...  NaN     NaN   \n",
       "2  000058a12d5b43e67d225668fa1f8d618c13dc232df0ca...  NaN     NaN   \n",
       "3  00005ca1c9ed5f5146b52ac8639a40ca9d57aeff4d1bd2...  NaN     NaN   \n",
       "4  00006413d8573cd20ed7128e53b7b13819fe5cfc2d801f...  1.0     1.0   \n",
       "\n",
       "  club_member_status fashion_news_frequency   age  \\\n",
       "0             ACTIVE                   NONE  49.0   \n",
       "1             ACTIVE                   NONE  25.0   \n",
       "2             ACTIVE                   NONE  24.0   \n",
       "3             ACTIVE                   NONE  54.0   \n",
       "4             ACTIVE              Regularly  52.0   \n",
       "\n",
       "                                         postal_code  \n",
       "0  52043ee2162cf5aa7ee79974281641c6f11a68d276429a...  \n",
       "1  2973abc54daa8a5f8ccfe9362140c63247c5eee03f1d93...  \n",
       "2  64f17e6a330a85798e4998f62d0930d14db8db1c054af6...  \n",
       "3  5d36574f52495e81f019b680c843c443bd343d5ca5b1c2...  \n",
       "4  25fa5ddee9aac01b35208d01736e57942317d756b32ddd...  "
      ]
     },
     "execution_count": 2,
     "metadata": {},
     "output_type": "execute_result"
    }
   ],
   "source": [
    "data = pd.read_csv(\"customers.csv\")\n",
    "data.head()"
   ]
  },
  {
   "cell_type": "markdown",
   "metadata": {},
   "source": [
    "count of rows and columns"
   ]
  },
  {
   "cell_type": "code",
   "execution_count": 3,
   "metadata": {
    "execution": {
     "iopub.execute_input": "2022-12-12T06:13:47.934874Z",
     "iopub.status.busy": "2022-12-12T06:13:47.934309Z",
     "iopub.status.idle": "2022-12-12T06:13:47.944897Z",
     "shell.execute_reply": "2022-12-12T06:13:47.943656Z",
     "shell.execute_reply.started": "2022-12-12T06:13:47.934825Z"
    }
   },
   "outputs": [
    {
     "data": {
      "text/plain": [
       "(1371980, 7)"
      ]
     },
     "execution_count": 3,
     "metadata": {},
     "output_type": "execute_result"
    }
   ],
   "source": [
    "data.shape"
   ]
  },
  {
   "cell_type": "markdown",
   "metadata": {},
   "source": [
    " Customers data description:\n",
    "\n",
    "\n",
    "**customer_id` : A unique identifier of every customer\n",
    "`FN` : 1 or NaN (Binary feature) --FN status\n",
    "`Active` : 1 or NaN (Binary feature) -- Members active for further communication and respond to feedbacks\n",
    "`club_member_status` : Status in club \n",
    "`fashion_news_frequency` : H&M news frequency \n",
    "`age`  : Customers age\n",
    "`postal_code` : Postal code of customer"
   ]
  },
  {
   "cell_type": "code",
   "execution_count": 4,
   "metadata": {
    "execution": {
     "iopub.execute_input": "2022-12-12T06:13:47.949730Z",
     "iopub.status.busy": "2022-12-12T06:13:47.949057Z",
     "iopub.status.idle": "2022-12-12T06:13:48.256445Z",
     "shell.execute_reply": "2022-12-12T06:13:48.255191Z",
     "shell.execute_reply.started": "2022-12-12T06:13:47.949691Z"
    }
   },
   "outputs": [
    {
     "data": {
      "text/plain": [
       "customer_id                    0\n",
       "FN                        895050\n",
       "Active                    907576\n",
       "club_member_status          6062\n",
       "fashion_news_frequency     16009\n",
       "age                        15861\n",
       "postal_code                    0\n",
       "dtype: int64"
      ]
     },
     "execution_count": 4,
     "metadata": {},
     "output_type": "execute_result"
    }
   ],
   "source": [
    "data.isna().sum()"
   ]
  },
  {
   "cell_type": "code",
   "execution_count": 5,
   "metadata": {
    "execution": {
     "iopub.execute_input": "2022-12-12T06:13:48.258476Z",
     "iopub.status.busy": "2022-12-12T06:13:48.257957Z",
     "iopub.status.idle": "2022-12-12T06:13:48.474445Z",
     "shell.execute_reply": "2022-12-12T06:13:48.473003Z",
     "shell.execute_reply.started": "2022-12-12T06:13:48.258411Z"
    }
   },
   "outputs": [],
   "source": [
    "data_backup = data.copy()\n",
    "data[['FN','Active']] = data[['FN','Active']].fillna(0)"
   ]
  },
  {
   "cell_type": "code",
   "execution_count": 6,
   "metadata": {
    "execution": {
     "iopub.execute_input": "2022-12-12T06:13:48.477464Z",
     "iopub.status.busy": "2022-12-12T06:13:48.476508Z",
     "iopub.status.idle": "2022-12-12T06:13:48.784267Z",
     "shell.execute_reply": "2022-12-12T06:13:48.782949Z",
     "shell.execute_reply.started": "2022-12-12T06:13:48.477383Z"
    }
   },
   "outputs": [
    {
     "data": {
      "text/plain": [
       "customer_id                   0\n",
       "FN                            0\n",
       "Active                        0\n",
       "club_member_status         6062\n",
       "fashion_news_frequency    16009\n",
       "age                       15861\n",
       "postal_code                   0\n",
       "dtype: int64"
      ]
     },
     "execution_count": 6,
     "metadata": {},
     "output_type": "execute_result"
    }
   ],
   "source": [
    "data.isna().sum()"
   ]
  },
  {
   "cell_type": "code",
   "execution_count": 7,
   "metadata": {
    "execution": {
     "iopub.execute_input": "2022-12-12T06:13:48.786037Z",
     "iopub.status.busy": "2022-12-12T06:13:48.785665Z",
     "iopub.status.idle": "2022-12-12T06:13:48.940310Z",
     "shell.execute_reply": "2022-12-12T06:13:48.938310Z",
     "shell.execute_reply.started": "2022-12-12T06:13:48.786004Z"
    }
   },
   "outputs": [
    {
     "data": {
      "image/png": "[encoded data removed]",
      "text/plain": [
       "<Figure size 432x432 with 1 Axes>"
      ]
     },
     "metadata": {},
     "output_type": "display_data"
    }
   ],
   "source": [
    "fig, ax = plt.subplots(figsize=(6,6))\n",
    "colors = sns.color_palette('pastel')\n",
    "e = (0.1, 0)\n",
    "ax.pie(data['FN'].value_counts(), explode=e, labels=[' Not-FN ',' FN '],\n",
    "       autopct='%1.1f%%',shadow=True, startangle=270, colors=colors)\n",
    "ax.axis('equal')\n",
    "plt.show()"
   ]
  },
  {
   "cell_type": "code",
   "execution_count": 8,
   "metadata": {
    "execution": {
     "iopub.execute_input": "2022-12-12T06:13:48.944238Z",
     "iopub.status.busy": "2022-12-12T06:13:48.943078Z",
     "iopub.status.idle": "2022-12-12T06:13:49.132196Z",
     "shell.execute_reply": "2022-12-12T06:13:49.125893Z",
     "shell.execute_reply.started": "2022-12-12T06:13:48.944169Z"
    }
   },
   "outputs": [
    {
     "data": {
      "image/png": "[encoded data removed]",
      "text/plain": [
       "<Figure size 432x432 with 1 Axes>"
      ]
     },
     "metadata": {},
     "output_type": "display_data"
    }
   ],
   "source": [
    "fig, ax = plt.subplots(figsize=(6,6))\n",
    "colors = sns.color_palette('husl')\n",
    "e = (0, 0.1)\n",
    "ax.pie(data['Active'].value_counts(), explode=e, labels=['Not-active','Active'],\n",
    "       autopct='%1.1f%%',shadow=True, startangle=123.8, colors=colors)\n",
    "ax.axis('equal')\n",
    "plt.show()"
   ]
  },
  {
   "cell_type": "code",
   "execution_count": 9,
   "metadata": {
    "execution": {
     "iopub.execute_input": "2022-12-12T06:13:49.136527Z",
     "iopub.status.busy": "2022-12-12T06:13:49.135805Z",
     "iopub.status.idle": "2022-12-12T06:13:49.249784Z",
     "shell.execute_reply": "2022-12-12T06:13:49.248601Z",
     "shell.execute_reply.started": "2022-12-12T06:13:49.136460Z"
    }
   },
   "outputs": [
    {
     "data": {
      "text/plain": [
       "count    1.356119e+06\n",
       "mean     3.638696e+01\n",
       "std      1.431363e+01\n",
       "min      1.600000e+01\n",
       "25%      2.400000e+01\n",
       "50%      3.200000e+01\n",
       "75%      4.900000e+01\n",
       "max      9.900000e+01\n",
       "Name: age, dtype: float64"
      ]
     },
     "execution_count": 9,
     "metadata": {},
     "output_type": "execute_result"
    }
   ],
   "source": [
    "data['age'].describe()"
   ]
  },
  {
   "cell_type": "code",
   "execution_count": 10,
   "metadata": {
    "execution": {
     "iopub.execute_input": "2022-12-12T06:13:49.253813Z",
     "iopub.status.busy": "2022-12-12T06:13:49.253451Z",
     "iopub.status.idle": "2022-12-12T06:13:49.276339Z",
     "shell.execute_reply": "2022-12-12T06:13:49.274925Z",
     "shell.execute_reply.started": "2022-12-12T06:13:49.253781Z"
    }
   },
   "outputs": [
    {
     "data": {
      "text/plain": [
       "array([0., 1.])"
      ]
     },
     "execution_count": 10,
     "metadata": {},
     "output_type": "execute_result"
    }
   ],
   "source": [
    "data['FN'].unique()"
   ]
  },
  {
   "cell_type": "code",
   "execution_count": 11,
   "metadata": {
    "execution": {
     "iopub.execute_input": "2022-12-12T06:13:49.278081Z",
     "iopub.status.busy": "2022-12-12T06:13:49.277744Z",
     "iopub.status.idle": "2022-12-12T06:13:49.301260Z",
     "shell.execute_reply": "2022-12-12T06:13:49.300208Z",
     "shell.execute_reply.started": "2022-12-12T06:13:49.278049Z"
    }
   },
   "outputs": [
    {
     "data": {
      "text/plain": [
       "array([0., 1.])"
      ]
     },
     "execution_count": 11,
     "metadata": {},
     "output_type": "execute_result"
    }
   ],
   "source": [
    "data['Active'].unique()"
   ]
  },
  {
   "cell_type": "code",
   "execution_count": 12,
   "metadata": {
    "execution": {
     "iopub.execute_input": "2022-12-12T06:13:49.304110Z",
     "iopub.status.busy": "2022-12-12T06:13:49.302906Z",
     "iopub.status.idle": "2022-12-12T06:13:49.386309Z",
     "shell.execute_reply": "2022-12-12T06:13:49.384884Z",
     "shell.execute_reply.started": "2022-12-12T06:13:49.304068Z"
    }
   },
   "outputs": [
    {
     "data": {
      "text/plain": [
       "array(['ACTIVE', nan, 'PRE-CREATE', 'LEFT CLUB'], dtype=object)"
      ]
     },
     "execution_count": 12,
     "metadata": {},
     "output_type": "execute_result"
    }
   ],
   "source": [
    "data['club_member_status'].unique()"
   ]
  },
  {
   "cell_type": "code",
   "execution_count": 13,
   "metadata": {
    "execution": {
     "iopub.execute_input": "2022-12-12T06:13:49.388213Z",
     "iopub.status.busy": "2022-12-12T06:13:49.387826Z",
     "iopub.status.idle": "2022-12-12T06:13:49.477842Z",
     "shell.execute_reply": "2022-12-12T06:13:49.476392Z",
     "shell.execute_reply.started": "2022-12-12T06:13:49.388179Z"
    }
   },
   "outputs": [
    {
     "data": {
      "text/plain": [
       "array(['NONE', 'Regularly', nan, 'Monthly', 'None'], dtype=object)"
      ]
     },
     "execution_count": 13,
     "metadata": {},
     "output_type": "execute_result"
    }
   ],
   "source": [
    "data['fashion_news_frequency'].unique()"
   ]
  },
  {
   "cell_type": "code",
   "execution_count": 14,
   "metadata": {
    "execution": {
     "iopub.execute_input": "2022-12-12T06:13:49.479851Z",
     "iopub.status.busy": "2022-12-12T06:13:49.479458Z",
     "iopub.status.idle": "2022-12-12T06:13:49.508726Z",
     "shell.execute_reply": "2022-12-12T06:13:49.507231Z",
     "shell.execute_reply.started": "2022-12-12T06:13:49.479817Z"
    }
   },
   "outputs": [
    {
     "data": {
      "text/plain": [
       "array([49., 25., 24., 54., 52., nan, 20., 32., 29., 31., 56., 75., 41.,\n",
       "       27., 30., 48., 35., 22., 40., 38., 45., 68., 55., 19., 60., 44.,\n",
       "       21., 26., 28., 53., 33., 17., 23., 51., 18., 34., 57., 47., 70.,\n",
       "       50., 63., 58., 43., 67., 72., 42., 39., 79., 71., 59., 36., 62.,\n",
       "       37., 46., 73., 64., 74., 61., 85., 69., 76., 66., 65., 82., 16.,\n",
       "       90., 80., 78., 81., 84., 77., 97., 89., 83., 98., 88., 86., 87.,\n",
       "       93., 91., 99., 96., 94., 92., 95.])"
      ]
     },
     "execution_count": 14,
     "metadata": {},
     "output_type": "execute_result"
    }
   ],
   "source": [
    "data['age'].unique()"
   ]
  },
  {
   "cell_type": "code",
   "execution_count": 15,
   "metadata": {
    "execution": {
     "iopub.execute_input": "2022-12-12T06:13:49.510379Z",
     "iopub.status.busy": "2022-12-12T06:13:49.510032Z",
     "iopub.status.idle": "2022-12-12T06:13:50.193305Z",
     "shell.execute_reply": "2022-12-12T06:13:50.191759Z",
     "shell.execute_reply.started": "2022-12-12T06:13:49.510347Z"
    }
   },
   "outputs": [
    {
     "data": {
      "text/plain": [
       "array(['52043ee2162cf5aa7ee79974281641c6f11a68d276429a91f8ca0d4b6efa8100',\n",
       "       '2973abc54daa8a5f8ccfe9362140c63247c5eee03f1d93f4c830291c32bc3057',\n",
       "       '64f17e6a330a85798e4998f62d0930d14db8db1c054af6c9090f7dd3e38380dc',\n",
       "       ...,\n",
       "       'c9d6890a6a194925f2c7712bde35b4ea973971cbe27c993ee907fe6d97a3ab0c',\n",
       "       'c9e32043e0338a51dfd94705cfd8f75eb98c2ec34730497c9726b21e59ee4572',\n",
       "       '0a1a03306fb2f62164c2a439b38c0caa64b40deaae868799ccb93ac69444b79d'],\n",
       "      dtype=object)"
      ]
     },
     "execution_count": 15,
     "metadata": {},
     "output_type": "execute_result"
    }
   ],
   "source": [
    "data['postal_code'].unique()"
   ]
  },
  {
   "cell_type": "code",
   "execution_count": 16,
   "metadata": {
    "execution": {
     "iopub.execute_input": "2022-12-12T06:13:50.195380Z",
     "iopub.status.busy": "2022-12-12T06:13:50.195017Z",
     "iopub.status.idle": "2022-12-12T06:13:50.813338Z",
     "shell.execute_reply": "2022-12-12T06:13:50.811965Z",
     "shell.execute_reply.started": "2022-12-12T06:13:50.195347Z"
    }
   },
   "outputs": [],
   "source": [
    "pie_data = data[['customer_id', 'fashion_news_frequency']].groupby('fashion_news_frequency').count()"
   ]
  },
  {
   "cell_type": "code",
   "execution_count": 17,
   "metadata": {
    "execution": {
     "iopub.execute_input": "2022-12-12T06:13:50.815873Z",
     "iopub.status.busy": "2022-12-12T06:13:50.815361Z",
     "iopub.status.idle": "2022-12-12T06:13:50.828279Z",
     "shell.execute_reply": "2022-12-12T06:13:50.826848Z",
     "shell.execute_reply.started": "2022-12-12T06:13:50.815823Z"
    }
   },
   "outputs": [
    {
     "data": {
      "text/html": [
       "<div>\n",
       "<style scoped>\n",
       "    .dataframe tbody tr th:only-of-type {\n",
       "        vertical-align: middle;\n",
       "    }\n",
       "\n",
       "    .dataframe tbody tr th {\n",
       "        vertical-align: top;\n",
       "    }\n",
       "\n",
       "    .dataframe thead th {\n",
       "        text-align: right;\n",
       "    }\n",
       "</style>\n",
       "<table border=\"1\" class=\"dataframe\">\n",
       "  <thead>\n",
       "    <tr style=\"text-align: right;\">\n",
       "      <th></th>\n",
       "      <th>customer_id</th>\n",
       "    </tr>\n",
       "    <tr>\n",
       "      <th>fashion_news_frequency</th>\n",
       "      <th></th>\n",
       "    </tr>\n",
       "  </thead>\n",
       "  <tbody>\n",
       "    <tr>\n",
       "      <th>Monthly</th>\n",
       "      <td>842</td>\n",
       "    </tr>\n",
       "    <tr>\n",
       "      <th>NONE</th>\n",
       "      <td>877711</td>\n",
       "    </tr>\n",
       "    <tr>\n",
       "      <th>None</th>\n",
       "      <td>2</td>\n",
       "    </tr>\n",
       "    <tr>\n",
       "      <th>Regularly</th>\n",
       "      <td>477416</td>\n",
       "    </tr>\n",
       "  </tbody>\n",
       "</table>\n",
       "</div>"
      ],
      "text/plain": [
       "                        customer_id\n",
       "fashion_news_frequency             \n",
       "Monthly                         842\n",
       "NONE                         877711\n",
       "None                              2\n",
       "Regularly                    477416"
      ]
     },
     "execution_count": 17,
     "metadata": {},
     "output_type": "execute_result"
    }
   ],
   "source": [
    "pie_data"
   ]
  },
  {
   "cell_type": "code",
   "execution_count": 18,
   "metadata": {
    "execution": {
     "iopub.execute_input": "2022-12-12T06:13:50.831844Z",
     "iopub.status.busy": "2022-12-12T06:13:50.831364Z",
     "iopub.status.idle": "2022-12-12T06:13:52.603951Z",
     "shell.execute_reply": "2022-12-12T06:13:52.602512Z",
     "shell.execute_reply.started": "2022-12-12T06:13:50.831787Z"
    }
   },
   "outputs": [],
   "source": [
    "postal_data = data[['customer_id', 'postal_code']].groupby('postal_code').count()"
   ]
  },
  {
   "cell_type": "code",
   "execution_count": 19,
   "metadata": {
    "execution": {
     "iopub.execute_input": "2022-12-12T06:13:52.609053Z",
     "iopub.status.busy": "2022-12-12T06:13:52.608656Z",
     "iopub.status.idle": "2022-12-12T06:13:52.623410Z",
     "shell.execute_reply": "2022-12-12T06:13:52.621933Z",
     "shell.execute_reply.started": "2022-12-12T06:13:52.609021Z"
    }
   },
   "outputs": [
    {
     "data": {
      "text/html": [
       "<div>\n",
       "<style scoped>\n",
       "    .dataframe tbody tr th:only-of-type {\n",
       "        vertical-align: middle;\n",
       "    }\n",
       "\n",
       "    .dataframe tbody tr th {\n",
       "        vertical-align: top;\n",
       "    }\n",
       "\n",
       "    .dataframe thead th {\n",
       "        text-align: right;\n",
       "    }\n",
       "</style>\n",
       "<table border=\"1\" class=\"dataframe\">\n",
       "  <thead>\n",
       "    <tr style=\"text-align: right;\">\n",
       "      <th></th>\n",
       "      <th>customer_id</th>\n",
       "    </tr>\n",
       "    <tr>\n",
       "      <th>postal_code</th>\n",
       "      <th></th>\n",
       "    </tr>\n",
       "  </thead>\n",
       "  <tbody>\n",
       "    <tr>\n",
       "      <th>0000198d2c593b7d3df5a35282b74cf3a487b066286b2beab55d4f5ac2b16127</th>\n",
       "      <td>1</td>\n",
       "    </tr>\n",
       "    <tr>\n",
       "      <th>00005652fb5323679a5d608ce8c94fbb57bc15d3d8c01acceef496d347bfdea2</th>\n",
       "      <td>2</td>\n",
       "    </tr>\n",
       "    <tr>\n",
       "      <th>0000eda740da878fb9df474806be9597f043eb5f748091f0d31f030ab7a9515d</th>\n",
       "      <td>1</td>\n",
       "    </tr>\n",
       "    <tr>\n",
       "      <th>0001617618d0facf2ae73cdba7b8caefb3c05e6987a98ac5584c92b511b3ce93</th>\n",
       "      <td>1</td>\n",
       "    </tr>\n",
       "    <tr>\n",
       "      <th>00016f13cb796865b053cda4d470b4a3146553eaa3624164ab6767214030b4c5</th>\n",
       "      <td>7</td>\n",
       "    </tr>\n",
       "  </tbody>\n",
       "</table>\n",
       "</div>"
      ],
      "text/plain": [
       "                                                    customer_id\n",
       "postal_code                                                    \n",
       "0000198d2c593b7d3df5a35282b74cf3a487b066286b2be...            1\n",
       "00005652fb5323679a5d608ce8c94fbb57bc15d3d8c01ac...            2\n",
       "0000eda740da878fb9df474806be9597f043eb5f748091f...            1\n",
       "0001617618d0facf2ae73cdba7b8caefb3c05e6987a98ac...            1\n",
       "00016f13cb796865b053cda4d470b4a3146553eaa362416...            7"
      ]
     },
     "execution_count": 19,
     "metadata": {},
     "output_type": "execute_result"
    }
   ],
   "source": [
    "postal_data.head()"
   ]
  },
  {
   "cell_type": "code",
   "execution_count": 20,
   "metadata": {
    "execution": {
     "iopub.execute_input": "2022-12-12T06:13:52.626725Z",
     "iopub.status.busy": "2022-12-12T06:13:52.625753Z",
     "iopub.status.idle": "2022-12-12T06:13:52.877605Z",
     "shell.execute_reply": "2022-12-12T06:13:52.876343Z",
     "shell.execute_reply.started": "2022-12-12T06:13:52.626683Z"
    }
   },
   "outputs": [],
   "source": [
    "age_postal_data = data[['postal_code', 'age']].groupby('age').count()"
   ]
  },
  {
   "cell_type": "code",
   "execution_count": 21,
   "metadata": {
    "execution": {
     "iopub.execute_input": "2022-12-12T06:13:52.880865Z",
     "iopub.status.busy": "2022-12-12T06:13:52.880001Z",
     "iopub.status.idle": "2022-12-12T06:13:52.894953Z",
     "shell.execute_reply": "2022-12-12T06:13:52.893396Z",
     "shell.execute_reply.started": "2022-12-12T06:13:52.880825Z"
    }
   },
   "outputs": [
    {
     "data": {
      "text/html": [
       "<div>\n",
       "<style scoped>\n",
       "    .dataframe tbody tr th:only-of-type {\n",
       "        vertical-align: middle;\n",
       "    }\n",
       "\n",
       "    .dataframe tbody tr th {\n",
       "        vertical-align: top;\n",
       "    }\n",
       "\n",
       "    .dataframe thead th {\n",
       "        text-align: right;\n",
       "    }\n",
       "</style>\n",
       "<table border=\"1\" class=\"dataframe\">\n",
       "  <thead>\n",
       "    <tr style=\"text-align: right;\">\n",
       "      <th></th>\n",
       "      <th>postal_code</th>\n",
       "    </tr>\n",
       "    <tr>\n",
       "      <th>age</th>\n",
       "      <th></th>\n",
       "    </tr>\n",
       "  </thead>\n",
       "  <tbody>\n",
       "    <tr>\n",
       "      <th>16.0</th>\n",
       "      <td>161</td>\n",
       "    </tr>\n",
       "    <tr>\n",
       "      <th>17.0</th>\n",
       "      <td>9392</td>\n",
       "    </tr>\n",
       "    <tr>\n",
       "      <th>18.0</th>\n",
       "      <td>24323</td>\n",
       "    </tr>\n",
       "    <tr>\n",
       "      <th>19.0</th>\n",
       "      <td>37707</td>\n",
       "    </tr>\n",
       "    <tr>\n",
       "      <th>20.0</th>\n",
       "      <td>55196</td>\n",
       "    </tr>\n",
       "  </tbody>\n",
       "</table>\n",
       "</div>"
      ],
      "text/plain": [
       "      postal_code\n",
       "age              \n",
       "16.0          161\n",
       "17.0         9392\n",
       "18.0        24323\n",
       "19.0        37707\n",
       "20.0        55196"
      ]
     },
     "execution_count": 21,
     "metadata": {},
     "output_type": "execute_result"
    }
   ],
   "source": [
    "age_postal_data.head()"
   ]
  },
  {
   "cell_type": "code",
   "execution_count": 22,
   "metadata": {
    "execution": {
     "iopub.execute_input": "2022-12-12T06:13:52.897717Z",
     "iopub.status.busy": "2022-12-12T06:13:52.896909Z",
     "iopub.status.idle": "2022-12-12T06:13:52.907164Z",
     "shell.execute_reply": "2022-12-12T06:13:52.905817Z",
     "shell.execute_reply.started": "2022-12-12T06:13:52.897675Z"
    }
   },
   "outputs": [
    {
     "name": "stdout",
     "output_type": "stream",
     "text": [
      "data.shape[0]: 1371980\n"
     ]
    }
   ],
   "source": [
    "print(f'data.shape[0]: {data.shape[0]}')"
   ]
  },
  {
   "cell_type": "code",
   "execution_count": 23,
   "metadata": {
    "execution": {
     "iopub.execute_input": "2022-12-12T06:13:52.909795Z",
     "iopub.status.busy": "2022-12-12T06:13:52.909230Z",
     "iopub.status.idle": "2022-12-12T06:13:53.645275Z",
     "shell.execute_reply": "2022-12-12T06:13:53.644217Z",
     "shell.execute_reply.started": "2022-12-12T06:13:52.909757Z"
    }
   },
   "outputs": [
    {
     "data": {
      "text/plain": [
       "0"
      ]
     },
     "execution_count": 23,
     "metadata": {},
     "output_type": "execute_result"
    }
   ],
   "source": [
    "data.shape[0] - data['customer_id'].nunique()"
   ]
  },
  {
   "cell_type": "code",
   "execution_count": 24,
   "metadata": {
    "execution": {
     "iopub.execute_input": "2022-12-12T06:13:53.647762Z",
     "iopub.status.busy": "2022-12-12T06:13:53.646971Z",
     "iopub.status.idle": "2022-12-12T06:13:54.017205Z",
     "shell.execute_reply": "2022-12-12T06:13:54.015507Z",
     "shell.execute_reply.started": "2022-12-12T06:13:53.647723Z"
    }
   },
   "outputs": [
    {
     "data": {
      "text/html": [
       "<div>\n",
       "<style scoped>\n",
       "    .dataframe tbody tr th:only-of-type {\n",
       "        vertical-align: middle;\n",
       "    }\n",
       "\n",
       "    .dataframe tbody tr th {\n",
       "        vertical-align: top;\n",
       "    }\n",
       "\n",
       "    .dataframe thead th {\n",
       "        text-align: right;\n",
       "    }\n",
       "</style>\n",
       "<table border=\"1\" class=\"dataframe\">\n",
       "  <thead>\n",
       "    <tr style=\"text-align: right;\">\n",
       "      <th></th>\n",
       "      <th>customer_id</th>\n",
       "    </tr>\n",
       "    <tr>\n",
       "      <th>club_member_status</th>\n",
       "      <th></th>\n",
       "    </tr>\n",
       "  </thead>\n",
       "  <tbody>\n",
       "    <tr>\n",
       "      <th>ACTIVE</th>\n",
       "      <td>1272491</td>\n",
       "    </tr>\n",
       "    <tr>\n",
       "      <th>LEFT CLUB</th>\n",
       "      <td>467</td>\n",
       "    </tr>\n",
       "    <tr>\n",
       "      <th>PRE-CREATE</th>\n",
       "      <td>92960</td>\n",
       "    </tr>\n",
       "  </tbody>\n",
       "</table>\n",
       "</div>"
      ],
      "text/plain": [
       "                    customer_id\n",
       "club_member_status             \n",
       "ACTIVE                  1272491\n",
       "LEFT CLUB                   467\n",
       "PRE-CREATE                92960"
      ]
     },
     "execution_count": 24,
     "metadata": {},
     "output_type": "execute_result"
    }
   ],
   "source": [
    "data['club_member_status'].unique()\n",
    "data[['customer_id', 'club_member_status']].groupby('club_member_status').count()"
   ]
  },
  {
   "cell_type": "code",
   "execution_count": 25,
   "metadata": {
    "execution": {
     "iopub.execute_input": "2022-12-12T06:13:54.020099Z",
     "iopub.status.busy": "2022-12-12T06:13:54.019563Z",
     "iopub.status.idle": "2022-12-12T06:13:54.173021Z",
     "shell.execute_reply": "2022-12-12T06:13:54.172033Z",
     "shell.execute_reply.started": "2022-12-12T06:13:54.020039Z"
    }
   },
   "outputs": [
    {
     "data": {
      "text/plain": [
       "count     1365918\n",
       "unique          3\n",
       "top        ACTIVE\n",
       "freq      1272491\n",
       "Name: club_member_status, dtype: object"
      ]
     },
     "execution_count": 25,
     "metadata": {},
     "output_type": "execute_result"
    }
   ],
   "source": [
    "data['club_member_status'].describe()"
   ]
  },
  {
   "cell_type": "markdown",
   "metadata": {},
   "source": [
    "### How many active customers"
   ]
  },
  {
   "cell_type": "code",
   "execution_count": 26,
   "metadata": {
    "execution": {
     "iopub.execute_input": "2022-12-12T06:13:54.175023Z",
     "iopub.status.busy": "2022-12-12T06:13:54.174670Z",
     "iopub.status.idle": "2022-12-12T06:13:54.455175Z",
     "shell.execute_reply": "2022-12-12T06:13:54.453747Z",
     "shell.execute_reply.started": "2022-12-12T06:13:54.174989Z"
    }
   },
   "outputs": [
    {
     "data": {
      "text/plain": [
       "1272491"
      ]
     },
     "execution_count": 26,
     "metadata": {},
     "output_type": "execute_result"
    }
   ],
   "source": [
    "data.loc[(data['club_member_status'] == 'ACTIVE')].shape[0]"
   ]
  },
  {
   "cell_type": "markdown",
   "metadata": {},
   "source": [
    "### Age group of customers"
   ]
  },
  {
   "cell_type": "code",
   "execution_count": 27,
   "metadata": {
    "execution": {
     "iopub.execute_input": "2022-12-12T06:13:54.457549Z",
     "iopub.status.busy": "2022-12-12T06:13:54.457014Z",
     "iopub.status.idle": "2022-12-12T06:13:54.475244Z",
     "shell.execute_reply": "2022-12-12T06:13:54.473974Z",
     "shell.execute_reply.started": "2022-12-12T06:13:54.457500Z"
    }
   },
   "outputs": [
    {
     "data": {
      "text/plain": [
       "36.386964565794"
      ]
     },
     "execution_count": 27,
     "metadata": {},
     "output_type": "execute_result"
    }
   ],
   "source": [
    "data['age'].mean()"
   ]
  },
  {
   "cell_type": "code",
   "execution_count": 28,
   "metadata": {
    "execution": {
     "iopub.execute_input": "2022-12-12T06:13:54.483127Z",
     "iopub.status.busy": "2022-12-12T06:13:54.482323Z",
     "iopub.status.idle": "2022-12-12T06:13:54.499117Z",
     "shell.execute_reply": "2022-12-12T06:13:54.497624Z",
     "shell.execute_reply.started": "2022-12-12T06:13:54.483085Z"
    }
   },
   "outputs": [
    {
     "data": {
      "text/plain": [
       "99.0"
      ]
     },
     "execution_count": 28,
     "metadata": {},
     "output_type": "execute_result"
    }
   ],
   "source": [
    "data['age'].max()"
   ]
  },
  {
   "cell_type": "markdown",
   "metadata": {},
   "source": [
    "Below grraph gives age distribution of the customers"
   ]
  },
  {
   "cell_type": "code",
   "execution_count": 29,
   "metadata": {
    "execution": {
     "iopub.execute_input": "2022-12-12T06:13:54.501493Z",
     "iopub.status.busy": "2022-12-12T06:13:54.500951Z",
     "iopub.status.idle": "2022-12-12T06:14:00.442430Z",
     "shell.execute_reply": "2022-12-12T06:14:00.440998Z",
     "shell.execute_reply.started": "2022-12-12T06:13:54.501445Z"
    }
   },
   "outputs": [
    {
     "data": {
      "text/plain": [
       "<seaborn.axisgrid.FacetGrid at 0x7ff5990074f0>"
      ]
     },
     "execution_count": 29,
     "metadata": {},
     "output_type": "execute_result"
    },
    {
     "data": {
      "image/png": "[encoded data removed]",
      "text/plain": [
       "<Figure size 360x360 with 1 Axes>"
      ]
     },
     "metadata": {
      "needs_background": "light"
     },
     "output_type": "display_data"
    }
   ],
   "source": [
    "#data['age'].plot(kind='kde', figsize=(14,6))\n",
    "sns.displot(data, x=\"age\", kind=\"kde\")"
   ]
  },
  {
   "cell_type": "markdown",
   "metadata": {},
   "source": [
    "bimodal"
   ]
  },
  {
   "cell_type": "code",
   "execution_count": 30,
   "metadata": {
    "execution": {
     "iopub.execute_input": "2022-12-12T06:14:00.444682Z",
     "iopub.status.busy": "2022-12-12T06:14:00.444130Z",
     "iopub.status.idle": "2022-12-12T06:14:00.772928Z",
     "shell.execute_reply": "2022-12-12T06:14:00.771451Z",
     "shell.execute_reply.started": "2022-12-12T06:14:00.444644Z"
    }
   },
   "outputs": [
    {
     "data": {
      "text/plain": [
       "<AxesSubplot:>"
      ]
     },
     "execution_count": 30,
     "metadata": {},
     "output_type": "execute_result"
    },
    {
     "data": {
      "image/png": "[encoded data removed]",
      "text/plain": [
       "<Figure size 1008x432 with 1 Axes>"
      ]
     },
     "metadata": {
      "needs_background": "light"
     },
     "output_type": "display_data"
    }
   ],
   "source": [
    "data['age'].plot(kind='box', vert=False, color= 'Purple',figsize=(14,6))"
   ]
  },
  {
   "cell_type": "markdown",
   "metadata": {},
   "source": [
    "### Clustering by postal code"
   ]
  },
  {
   "cell_type": "code",
   "execution_count": 31,
   "metadata": {
    "execution": {
     "iopub.execute_input": "2022-12-12T06:14:00.774917Z",
     "iopub.status.busy": "2022-12-12T06:14:00.774563Z",
     "iopub.status.idle": "2022-12-12T06:14:02.841364Z",
     "shell.execute_reply": "2022-12-12T06:14:02.839943Z",
     "shell.execute_reply.started": "2022-12-12T06:14:00.774885Z"
    }
   },
   "outputs": [
    {
     "data": {
      "text/html": [
       "<div>\n",
       "<style scoped>\n",
       "    .dataframe tbody tr th:only-of-type {\n",
       "        vertical-align: middle;\n",
       "    }\n",
       "\n",
       "    .dataframe tbody tr th {\n",
       "        vertical-align: top;\n",
       "    }\n",
       "\n",
       "    .dataframe thead th {\n",
       "        text-align: right;\n",
       "    }\n",
       "</style>\n",
       "<table border=\"1\" class=\"dataframe\">\n",
       "  <thead>\n",
       "    <tr style=\"text-align: right;\">\n",
       "      <th></th>\n",
       "      <th>postal_code</th>\n",
       "      <th>customer_id</th>\n",
       "      <th>FN</th>\n",
       "      <th>Active</th>\n",
       "      <th>club_member_status</th>\n",
       "      <th>fashion_news_frequency</th>\n",
       "      <th>age</th>\n",
       "    </tr>\n",
       "  </thead>\n",
       "  <tbody>\n",
       "    <tr>\n",
       "      <th>61034</th>\n",
       "      <td>2c29ae653a9282cce4151bd87643c907644e09541abc28...</td>\n",
       "      <td>120303</td>\n",
       "      <td>120303</td>\n",
       "      <td>120303</td>\n",
       "      <td>118281</td>\n",
       "      <td>114377</td>\n",
       "      <td>118002</td>\n",
       "    </tr>\n",
       "    <tr>\n",
       "      <th>281937</th>\n",
       "      <td>cc4ed85e30f4977dae47662ddc468cd2eec11472de6fac...</td>\n",
       "      <td>261</td>\n",
       "      <td>261</td>\n",
       "      <td>261</td>\n",
       "      <td>261</td>\n",
       "      <td>261</td>\n",
       "      <td>260</td>\n",
       "    </tr>\n",
       "    <tr>\n",
       "      <th>156090</th>\n",
       "      <td>714976379549eb90aae4a71bca6c7402cc646ae7c40f6c...</td>\n",
       "      <td>159</td>\n",
       "      <td>159</td>\n",
       "      <td>159</td>\n",
       "      <td>159</td>\n",
       "      <td>159</td>\n",
       "      <td>158</td>\n",
       "    </tr>\n",
       "    <tr>\n",
       "      <th>171208</th>\n",
       "      <td>7c1fa3b0ec1d37ce2c3f34f63bd792f3b4494f324b6be5...</td>\n",
       "      <td>157</td>\n",
       "      <td>157</td>\n",
       "      <td>157</td>\n",
       "      <td>157</td>\n",
       "      <td>156</td>\n",
       "      <td>156</td>\n",
       "    </tr>\n",
       "    <tr>\n",
       "      <th>126228</th>\n",
       "      <td>5b7eb31eabebd3277de632b82267286d847fd5d44287ee...</td>\n",
       "      <td>156</td>\n",
       "      <td>156</td>\n",
       "      <td>156</td>\n",
       "      <td>156</td>\n",
       "      <td>156</td>\n",
       "      <td>155</td>\n",
       "    </tr>\n",
       "  </tbody>\n",
       "</table>\n",
       "</div>"
      ],
      "text/plain": [
       "                                              postal_code  customer_id  \\\n",
       "61034   2c29ae653a9282cce4151bd87643c907644e09541abc28...       120303   \n",
       "281937  cc4ed85e30f4977dae47662ddc468cd2eec11472de6fac...          261   \n",
       "156090  714976379549eb90aae4a71bca6c7402cc646ae7c40f6c...          159   \n",
       "171208  7c1fa3b0ec1d37ce2c3f34f63bd792f3b4494f324b6be5...          157   \n",
       "126228  5b7eb31eabebd3277de632b82267286d847fd5d44287ee...          156   \n",
       "\n",
       "            FN  Active  club_member_status  fashion_news_frequency     age  \n",
       "61034   120303  120303              118281                  114377  118002  \n",
       "281937     261     261                 261                     261     260  \n",
       "156090     159     159                 159                     159     158  \n",
       "171208     157     157                 157                     156     156  \n",
       "126228     156     156                 156                     156     155  "
      ]
     },
     "execution_count": 31,
     "metadata": {},
     "output_type": "execute_result"
    }
   ],
   "source": [
    "data_postal = data.groupby('postal_code', as_index=False).count().sort_values('customer_id', ascending=False)\n",
    "data_postal.head()"
   ]
  },
  {
   "cell_type": "code",
   "execution_count": 32,
   "metadata": {
    "execution": {
     "iopub.execute_input": "2022-12-12T06:14:02.843350Z",
     "iopub.status.busy": "2022-12-12T06:14:02.842944Z",
     "iopub.status.idle": "2022-12-12T06:14:02.853401Z",
     "shell.execute_reply": "2022-12-12T06:14:02.851690Z",
     "shell.execute_reply.started": "2022-12-12T06:14:02.843316Z"
    }
   },
   "outputs": [
    {
     "data": {
      "text/plain": [
       "[['2c29ae653a9282cce4151bd87643c907644e09541abc28ae87dea0d1f6603b1c']]"
      ]
     },
     "execution_count": 32,
     "metadata": {},
     "output_type": "execute_result"
    }
   ],
   "source": [
    "data_postal.iloc[0:1, 0:1].values.tolist()"
   ]
  },
  {
   "cell_type": "code",
   "execution_count": 33,
   "metadata": {
    "execution": {
     "iopub.execute_input": "2022-12-12T06:14:02.855721Z",
     "iopub.status.busy": "2022-12-12T06:14:02.855270Z",
     "iopub.status.idle": "2022-12-12T06:14:02.877560Z",
     "shell.execute_reply": "2022-12-12T06:14:02.876003Z",
     "shell.execute_reply.started": "2022-12-12T06:14:02.855686Z"
    }
   },
   "outputs": [
    {
     "data": {
      "text/plain": [
       "True"
      ]
     },
     "execution_count": 33,
     "metadata": {},
     "output_type": "execute_result"
    }
   ],
   "source": [
    "61034 in data_postal.index"
   ]
  },
  {
   "cell_type": "code",
   "execution_count": 34,
   "metadata": {
    "execution": {
     "iopub.execute_input": "2022-12-12T06:14:02.882583Z",
     "iopub.status.busy": "2022-12-12T06:14:02.882104Z",
     "iopub.status.idle": "2022-12-12T06:14:02.892908Z",
     "shell.execute_reply": "2022-12-12T06:14:02.891725Z",
     "shell.execute_reply.started": "2022-12-12T06:14:02.882542Z"
    }
   },
   "outputs": [
    {
     "data": {
      "text/plain": [
       "postal_code               2c29ae653a9282cce4151bd87643c907644e09541abc28...\n",
       "customer_id                                                          120303\n",
       "FN                                                                   120303\n",
       "Active                                                               120303\n",
       "club_member_status                                                   118281\n",
       "fashion_news_frequency                                               114377\n",
       "age                                                                  118002\n",
       "Name: 61034, dtype: object"
      ]
     },
     "execution_count": 34,
     "metadata": {},
     "output_type": "execute_result"
    }
   ],
   "source": [
    "data_postal.loc[61034] #.values.tolist()"
   ]
  },
  {
   "cell_type": "code",
   "execution_count": 35,
   "metadata": {
    "execution": {
     "iopub.execute_input": "2022-12-12T06:14:02.894744Z",
     "iopub.status.busy": "2022-12-12T06:14:02.894346Z",
     "iopub.status.idle": "2022-12-12T06:14:04.040860Z",
     "shell.execute_reply": "2022-12-12T06:14:04.039444Z",
     "shell.execute_reply.started": "2022-12-12T06:14:02.894708Z"
    }
   },
   "outputs": [
    {
     "data": {
      "text/plain": [
       "2c29ae653a9282cce4151bd87643c907644e09541abc28ae87dea0d1f6603b1c    120303\n",
       "cc4ed85e30f4977dae47662ddc468cd2eec11472de6fac5ec985080fd92243c8       261\n",
       "714976379549eb90aae4a71bca6c7402cc646ae7c40f6c1cb91d4b5a18623fc1       159\n",
       "7c1fa3b0ec1d37ce2c3f34f63bd792f3b4494f324b6be5d1e4ba6a75456b96a7       157\n",
       "5b7eb31eabebd3277de632b82267286d847fd5d44287ee150bb4206b48439145       156\n",
       "                                                                     ...  \n",
       "16dd7e391f305b54c01ffed87c189e33de83158d0a808d1b346222703742f638         1\n",
       "5ce1c699380b3c13655347c9636043f5e64ec2538a1ee7d42dd253a584577630         1\n",
       "afdedc642d01efeefec6fc8d3394724a71888ebd0ff0311eff6f34946589479d         1\n",
       "4c8838d278d23029c920b9684fa4cf30a532428a445afb300eeb288685cf00e1         1\n",
       "0a1a03306fb2f62164c2a439b38c0caa64b40deaae868799ccb93ac69444b79d         1\n",
       "Name: postal_code, Length: 352899, dtype: int64"
      ]
     },
     "execution_count": 35,
     "metadata": {},
     "output_type": "execute_result"
    }
   ],
   "source": [
    "data['postal_code'].value_counts()"
   ]
  },
  {
   "cell_type": "code",
   "execution_count": 36,
   "metadata": {
    "execution": {
     "iopub.execute_input": "2022-12-12T06:14:04.043435Z",
     "iopub.status.busy": "2022-12-12T06:14:04.042969Z",
     "iopub.status.idle": "2022-12-12T06:14:05.044936Z",
     "shell.execute_reply": "2022-12-12T06:14:05.043636Z",
     "shell.execute_reply.started": "2022-12-12T06:14:04.043383Z"
    }
   },
   "outputs": [
    {
     "data": {
      "text/plain": [
       "2c29ae653a9282cce4151bd87643c907644e09541abc28ae87dea0d1f6603b1c    120303\n",
       "Name: postal_code, dtype: int64"
      ]
     },
     "execution_count": 36,
     "metadata": {},
     "output_type": "execute_result"
    }
   ],
   "source": [
    "data['postal_code'].value_counts().head(1)"
   ]
  },
  {
   "cell_type": "code",
   "execution_count": 37,
   "metadata": {
    "execution": {
     "iopub.execute_input": "2022-12-12T06:14:05.046665Z",
     "iopub.status.busy": "2022-12-12T06:14:05.046322Z",
     "iopub.status.idle": "2022-12-12T06:14:06.273233Z",
     "shell.execute_reply": "2022-12-12T06:14:06.271650Z",
     "shell.execute_reply.started": "2022-12-12T06:14:05.046633Z"
    }
   },
   "outputs": [
    {
     "data": {
      "image/png": "[encoded data removed]",
      "text/plain": [
       "<Figure size 720x360 with 1 Axes>"
      ]
     },
     "metadata": {
      "needs_background": "light"
     },
     "output_type": "display_data"
    }
   ],
   "source": [
    "fig, ax = plt.subplots(figsize=(10,5))\n",
    "bins =data['age'].nunique()\n",
    "ax = sns.histplot(data=data, x='age', bins=bins ,hue='Active',  stat=\"percent\")\n",
    "ax.set_ylabel('Percentage')\n",
    "ax.set_xlabel('Distribution of the customers age')\n",
    "plt.show()"
   ]
  },
  {
   "cell_type": "code",
   "execution_count": 38,
   "metadata": {
    "execution": {
     "iopub.execute_input": "2022-12-12T06:14:06.275692Z",
     "iopub.status.busy": "2022-12-12T06:14:06.275222Z",
     "iopub.status.idle": "2022-12-12T06:14:06.540811Z",
     "shell.execute_reply": "2022-12-12T06:14:06.539488Z",
     "shell.execute_reply.started": "2022-12-12T06:14:06.275652Z"
    }
   },
   "outputs": [],
   "source": [
    "active_age_ratio = data.groupby('age')['Active'].value_counts(normalize=True).mul(100)\n",
    "active_age_ratio = active_age_ratio.rename('Active_ratio', inplace=True).reset_index()\n",
    "active_age_ratio = active_age_ratio[active_age_ratio['Active']==1]\n",
    "active_age_ratio['Active'] = active_age_ratio['Active'].astype(int)\n",
    "active_age_ratio['Age'] = active_age_ratio['age'].astype(int)"
   ]
  },
  {
   "cell_type": "code",
   "execution_count": 39,
   "metadata": {
    "execution": {
     "iopub.execute_input": "2022-12-12T06:14:06.543479Z",
     "iopub.status.busy": "2022-12-12T06:14:06.542689Z",
     "iopub.status.idle": "2022-12-12T06:14:07.408253Z",
     "shell.execute_reply": "2022-12-12T06:14:07.406720Z",
     "shell.execute_reply.started": "2022-12-12T06:14:06.543435Z"
    }
   },
   "outputs": [
    {
     "data": {
      "image/png": "[encoded data removed]",
      "text/plain": [
       "<Figure size 1800x504 with 1 Axes>"
      ]
     },
     "metadata": {
      "needs_background": "light"
     },
     "output_type": "display_data"
    }
   ],
   "source": [
    "fig, ax = plt.subplots(figsize=(25,7))\n",
    "sns.barplot(x='age', y='Active_ratio', data=active_age_ratio)\n",
    "for label in ax.xaxis.get_ticklabels()[::2]:\n",
    "    label.set_visible(False)    \n",
    "ax.set_title(\"Share of active users according to age\", fontsize=15)\n",
    "ax.set_ylabel(\"Active Ratio\")\n",
    "ax.set_xlabel(\"Age\")\n",
    "plt.show()"
   ]
  },
  {
   "cell_type": "code",
   "execution_count": 40,
   "metadata": {
    "execution": {
     "iopub.execute_input": "2022-12-12T06:14:07.410482Z",
     "iopub.status.busy": "2022-12-12T06:14:07.410005Z",
     "iopub.status.idle": "2022-12-12T06:14:07.821474Z",
     "shell.execute_reply": "2022-12-12T06:14:07.819918Z",
     "shell.execute_reply.started": "2022-12-12T06:14:07.410443Z"
    }
   },
   "outputs": [
    {
     "data": {
      "image/png": "[encoded data removed]",
      "text/plain": [
       "<Figure size 720x360 with 1 Axes>"
      ]
     },
     "metadata": {
      "needs_background": "light"
     },
     "output_type": "display_data"
    }
   ],
   "source": [
    "plt.figure(figsize=(10,5))\n",
    "plt.title(\"Customers age distribution\", fontweight=\"bold\", size=30)\n",
    "plt.hist(data[\"age\"], bins=70, edgecolor=\"black\", color=\"#F08080\")\n",
    "plt.xlabel(\"Age\",size=20)\n",
    "plt.ylabel(\"Count\", size=20)\n",
    "plt.show()"
   ]
  },
  {
   "cell_type": "code",
   "execution_count": 41,
   "metadata": {
    "execution": {
     "iopub.execute_input": "2022-12-12T06:14:07.823522Z",
     "iopub.status.busy": "2022-12-12T06:14:07.823145Z",
     "iopub.status.idle": "2022-12-12T06:14:07.880493Z",
     "shell.execute_reply": "2022-12-12T06:14:07.879267Z",
     "shell.execute_reply.started": "2022-12-12T06:14:07.823487Z"
    }
   },
   "outputs": [],
   "source": [
    "data['age_groups'] = pd.cut(data['age'], bins=[16, 20, 30, 40,50, 60, 70, float('Inf')], labels=['16-20', '20-30','30-40','40-50','50-60','60-70' , '70+'])"
   ]
  },
  {
   "cell_type": "code",
   "execution_count": 42,
   "metadata": {
    "execution": {
     "iopub.execute_input": "2022-12-12T06:14:07.883097Z",
     "iopub.status.busy": "2022-12-12T06:14:07.882688Z",
     "iopub.status.idle": "2022-12-12T06:14:07.894562Z",
     "shell.execute_reply": "2022-12-12T06:14:07.893108Z",
     "shell.execute_reply.started": "2022-12-12T06:14:07.883060Z"
    }
   },
   "outputs": [
    {
     "data": {
      "text/plain": [
       "0          40-50\n",
       "1          20-30\n",
       "2          20-30\n",
       "3          50-60\n",
       "4          50-60\n",
       "           ...  \n",
       "1371975    20-30\n",
       "1371976    20-30\n",
       "1371977    20-30\n",
       "1371978    16-20\n",
       "1371979    60-70\n",
       "Name: age_groups, Length: 1371980, dtype: category\n",
       "Categories (7, object): ['16-20' < '20-30' < '30-40' < '40-50' < '50-60' < '60-70' < '70+']"
      ]
     },
     "execution_count": 42,
     "metadata": {},
     "output_type": "execute_result"
    }
   ],
   "source": [
    "data['age_groups']"
   ]
  },
  {
   "cell_type": "code",
   "execution_count": 43,
   "metadata": {
    "execution": {
     "iopub.execute_input": "2022-12-12T06:14:07.897892Z",
     "iopub.status.busy": "2022-12-12T06:14:07.897172Z",
     "iopub.status.idle": "2022-12-12T06:14:07.910144Z",
     "shell.execute_reply": "2022-12-12T06:14:07.908486Z",
     "shell.execute_reply.started": "2022-12-12T06:14:07.897836Z"
    }
   },
   "outputs": [
    {
     "data": {
      "text/plain": [
       "0          49.0\n",
       "1          25.0\n",
       "2          24.0\n",
       "3          54.0\n",
       "4          52.0\n",
       "           ... \n",
       "1371975    24.0\n",
       "1371976    21.0\n",
       "1371977    21.0\n",
       "1371978    18.0\n",
       "1371979    65.0\n",
       "Name: age, Length: 1371980, dtype: float64"
      ]
     },
     "execution_count": 43,
     "metadata": {},
     "output_type": "execute_result"
    }
   ],
   "source": [
    "data['age']"
   ]
  },
  {
   "cell_type": "code",
   "execution_count": 44,
   "metadata": {
    "execution": {
     "iopub.execute_input": "2022-12-12T06:14:07.912729Z",
     "iopub.status.busy": "2022-12-12T06:14:07.912117Z",
     "iopub.status.idle": "2022-12-12T06:14:08.237070Z",
     "shell.execute_reply": "2022-12-12T06:14:08.235487Z",
     "shell.execute_reply.started": "2022-12-12T06:14:07.912671Z"
    }
   },
   "outputs": [],
   "source": [
    "x, y = 'age_groups', 'fashion_news_frequency'\n",
    "df_age_news = data.groupby(x)[y].value_counts(normalize=True)\n",
    "df_age_news = df_age_news.mul(100)\n",
    "df_age_news = df_age_news.rename('percent(%)').reset_index()\n",
    "df_age_news = df_age_news[df_age_news[\"fashion_news_frequency\"].isin([\"Regularly\",\"NONE\"])]\n"
   ]
  },
  {
   "cell_type": "markdown",
   "metadata": {},
   "source": [
    "Below plot gives the percentage of customers belonging to different age groups who are regular subscribers of the fashion news and who have not subscribed to our fashion news"
   ]
  },
  {
   "cell_type": "code",
   "execution_count": 45,
   "metadata": {
    "execution": {
     "iopub.execute_input": "2022-12-12T06:14:08.242519Z",
     "iopub.status.busy": "2022-12-12T06:14:08.241921Z",
     "iopub.status.idle": "2022-12-12T06:14:08.706872Z",
     "shell.execute_reply": "2022-12-12T06:14:08.705521Z",
     "shell.execute_reply.started": "2022-12-12T06:14:08.242484Z"
    }
   },
   "outputs": [
    {
     "data": {
      "image/png": "[encoded data removed]",
      "text/plain": [
       "<Figure size 1008x504 with 1 Axes>"
      ]
     },
     "metadata": {
      "needs_background": "light"
     },
     "output_type": "display_data"
    }
   ],
   "source": [
    "palette1 = {\"Regularly\":'crimson', \"NONE\":'#68228B'}\n",
    "plt.figure(figsize=(14,7))\n",
    "plt.title(\"\\n\",fontweight=\"bold\", size=20)\n",
    "g=sns.barplot(x=\"age_groups\", y=\"percent(%)\",data=df_age_news, hue=\"fashion_news_frequency\", palette=palette1)\n",
    "plt.xlabel(\"Age group\",fontweight=\"bold\", size=20)\n",
    "plt.ylabel(\"Percentage\",fontweight=\"bold\", size=20)\n",
    "for container in g.containers:\n",
    "    g.bar_label(container, padding = 5, fmt='%.1f', fontsize=15, color=\"darkslategray\")\n",
    "plt.grid(axis=\"y\",color = 'grey', linestyle = '--', linewidth = 1.5)\n",
    "plt.legend(title='News Frequency',bbox_to_anchor=(1.0, 1.0), ncol=1, fancybox=True, shadow=True, fontsize=15,title_fontsize=15)\n",
    "plt.show()"
   ]
  },
  {
   "cell_type": "code",
   "execution_count": 46,
   "metadata": {
    "execution": {
     "iopub.execute_input": "2022-12-12T06:14:08.709310Z",
     "iopub.status.busy": "2022-12-12T06:14:08.708791Z",
     "iopub.status.idle": "2022-12-12T06:14:08.806760Z",
     "shell.execute_reply": "2022-12-12T06:14:08.805145Z",
     "shell.execute_reply.started": "2022-12-12T06:14:08.709260Z"
    }
   },
   "outputs": [
    {
     "data": {
      "text/plain": [
       "ACTIVE        0.931601\n",
       "PRE-CREATE    0.068057\n",
       "LEFT CLUB     0.000342\n",
       "Name: club_member_status, dtype: float64"
      ]
     },
     "execution_count": 46,
     "metadata": {},
     "output_type": "execute_result"
    }
   ],
   "source": [
    "data[\"club_member_status\"].value_counts(normalize=True)"
   ]
  },
  {
   "cell_type": "markdown",
   "metadata": {},
   "source": [
    "Above, it can be seen that approximately 93% of the customers belong to ACTIVE club member status\n",
    "6.8% of the customers belong to PRE-CREATE club member status\n",
    "0.3% of the customers belong to LEFT CLUB club member status"
   ]
  },
  {
   "cell_type": "code",
   "execution_count": 47,
   "metadata": {
    "execution": {
     "iopub.execute_input": "2022-12-12T06:14:08.809617Z",
     "iopub.status.busy": "2022-12-12T06:14:08.808800Z",
     "iopub.status.idle": "2022-12-12T06:14:09.171957Z",
     "shell.execute_reply": "2022-12-12T06:14:09.170548Z",
     "shell.execute_reply.started": "2022-12-12T06:14:08.809562Z"
    }
   },
   "outputs": [
    {
     "data": {
      "text/plain": [
       "<AxesSubplot:>"
      ]
     },
     "execution_count": 47,
     "metadata": {},
     "output_type": "execute_result"
    },
    {
     "data": {
      "image/png": "[encoded data removed]",
      "text/plain": [
       "<Figure size 432x288 with 2 Axes>"
      ]
     },
     "metadata": {
      "needs_background": "light"
     },
     "output_type": "display_data"
    }
   ],
   "source": [
    "corr = data.corr()# plot the heatmap\n",
    "sns.heatmap(corr, xticklabels=corr.columns, yticklabels=corr.columns, annot=True, cmap=sns.diverging_palette(200, 20, as_cmap=True))"
   ]
  },
  {
   "cell_type": "markdown",
   "metadata": {},
   "source": [
    "below plot for distribution of the customers belonging to different club member status"
   ]
  },
  {
   "cell_type": "code",
   "execution_count": 48,
   "metadata": {
    "execution": {
     "iopub.execute_input": "2022-12-12T06:14:09.175635Z",
     "iopub.status.busy": "2022-12-12T06:14:09.173921Z",
     "iopub.status.idle": "2022-12-12T06:14:10.402160Z",
     "shell.execute_reply": "2022-12-12T06:14:10.400832Z",
     "shell.execute_reply.started": "2022-12-12T06:14:09.175577Z"
    }
   },
   "outputs": [
    {
     "data": {
      "image/png": "[encoded data removed]",
      "text/plain": [
       "<Figure size 720x360 with 1 Axes>"
      ]
     },
     "metadata": {},
     "output_type": "display_data"
    }
   ],
   "source": [
    "sns.set_style(\"darkgrid\")\n",
    "f, ax = plt.subplots(figsize=(10,5))\n",
    "ax = sns.histplot(data=data, x='club_member_status', bins=50, color='#458B74')\n",
    "ax.set_xlabel('Distribution of the customers age')\n",
    "ax.set_ylabel('Number of customers')\n",
    "plt.show()"
   ]
  },
  {
   "cell_type": "markdown",
   "metadata": {},
   "source": [
    "below plot for distribution of the customers age who have subscribed for Monthly fashion news frequency"
   ]
  },
  {
   "cell_type": "code",
   "execution_count": 49,
   "metadata": {
    "execution": {
     "iopub.execute_input": "2022-12-12T06:14:10.404207Z",
     "iopub.status.busy": "2022-12-12T06:14:10.403737Z",
     "iopub.status.idle": "2022-12-12T06:14:10.797302Z",
     "shell.execute_reply": "2022-12-12T06:14:10.796063Z",
     "shell.execute_reply.started": "2022-12-12T06:14:10.404170Z"
    }
   },
   "outputs": [
    {
     "data": {
      "image/png": "[encoded data removed]",
      "text/plain": [
       "<Figure size 720x360 with 1 Axes>"
      ]
     },
     "metadata": {},
     "output_type": "display_data"
    }
   ],
   "source": [
    "temp = data['fashion_news_frequency'] == 'Monthly'\n",
    "temp = data[temp]\n",
    "sns.set_style(\"darkgrid\")\n",
    "f, ax = plt.subplots(figsize=(10,5))\n",
    "ax = sns.histplot(data=temp, x='age_groups', bins=50, color='green')\n",
    "ax.set_xlabel('Distribution of the customers age')\n",
    "ax.set_ylabel('Number of customers')\n",
    "plt.show()"
   ]
  },
  {
   "cell_type": "markdown",
   "metadata": {},
   "source": [
    "below plot for distribution of the customers age who have subscribed for regular fashion news frequency "
   ]
  },
  {
   "cell_type": "code",
   "execution_count": 50,
   "metadata": {
    "execution": {
     "iopub.execute_input": "2022-12-12T06:14:10.799062Z",
     "iopub.status.busy": "2022-12-12T06:14:10.798727Z",
     "iopub.status.idle": "2022-12-12T06:14:11.506949Z",
     "shell.execute_reply": "2022-12-12T06:14:11.505608Z",
     "shell.execute_reply.started": "2022-12-12T06:14:10.799029Z"
    }
   },
   "outputs": [
    {
     "data": {
      "image/png": "[encoded data removed]",
      "text/plain": [
       "<Figure size 720x360 with 1 Axes>"
      ]
     },
     "metadata": {},
     "output_type": "display_data"
    }
   ],
   "source": [
    "temp = data['fashion_news_frequency'] == 'Regularly'\n",
    "temp = data[temp]\n",
    "sns.set_style(\"darkgrid\")\n",
    "f, ax = plt.subplots(figsize=(10,5))\n",
    "ax = sns.histplot(data=temp, x='age_groups', bins=50, color='blue')\n",
    "ax.set_xlabel('Distribution of the customers age')\n",
    "ax.set_ylabel('Number of customers')\n",
    "plt.show()"
   ]
  }
 ],
 "metadata": {
  "kernelspec": {
   "display_name": "Python 3",
   "language": "python",
   "name": "python3"
  },
  "language_info": {
   "codemirror_mode": {
    "name": "ipython",
    "version": 3
   },
   "file_extension": ".py",
   "mimetype": "text/x-python",
   "name": "python",
   "nbconvert_exporter": "python",
   "pygments_lexer": "ipython3",
   "version": "3.8.8"
  }
 },
 "nbformat": 4,
 "nbformat_minor": 4
}
